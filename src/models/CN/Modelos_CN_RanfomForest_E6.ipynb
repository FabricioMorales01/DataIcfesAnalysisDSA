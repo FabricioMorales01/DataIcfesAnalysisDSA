{
  "cells": [
    {
      "cell_type": "code",
      "execution_count": null,
      "metadata": {
        "id": "MP9lgVDxYb_o"
      },
      "outputs": [],
      "source": [
        "import pandas as pd\n",
        "import numpy as np\n",
        "import seaborn as sns\n",
        "import matplotlib.pyplot as plt\n",
        "import math\n",
        "\n",
        "import sklearn\n",
        "from sklearn import model_selection\n",
        "from sklearn.linear_model import LogisticRegression\n",
        "from sklearn.linear_model import LinearRegression\n",
        "from sklearn.svm import SVC\n",
        "from sklearn.neural_network import MLPClassifier\n",
        "from sklearn.tree import DecisionTreeRegressor\n",
        "from sklearn.tree import DecisionTreeClassifier\n",
        "from sklearn.ensemble import RandomForestRegressor\n",
        "from sklearn.model_selection import cross_val_score\n",
        "from sklearn.utils import resample\n",
        "from sklearn.tree import plot_tree\n",
        "from sklearn import metrics\n",
        "from sklearn.ensemble import BaggingClassifier\n",
        "from sklearn.ensemble import RandomForestClassifier\n",
        "from sklearn.ensemble import GradientBoostingClassifier\n",
        "from sklearn.ensemble import GradientBoostingRegressor\n",
        "from xgboost import XGBClassifier\n",
        "from sklearn.model_selection import GridSearchCV"
      ]
    },
    {
      "cell_type": "code",
      "execution_count": null,
      "metadata": {
        "id": "H4th4cHHYivm"
      },
      "outputs": [],
      "source": [
        "base_mod = pd.read_csv('https://raw.githubusercontent.com/MadavR/MIAD-VyS/main/EXA_2022_1_Todos_Limp.csv', sep=',')"
      ]
    },
    {
      "cell_type": "code",
      "execution_count": null,
      "metadata": {
        "id": "DcWVaQvfYnPJ"
      },
      "outputs": [],
      "source": [
        "# En el escenario 8 intentamos predecir el resultado de Ciencias Naturales\n",
        "# Consideramos todas las variables categóricas y numéricas\n",
        "# Además, consideramos la categorización de los resultados: 0 (o-6 respuestas correctas), 1 (7-13 respuestas correctas),\n",
        "# y 2 (14-20 respuestas correctas)"
      ]
    },
    {
      "cell_type": "code",
      "execution_count": null,
      "metadata": {
        "id": "FCrvLXlOYvqQ"
      },
      "outputs": [],
      "source": [
        "base_mod_cat = base_mod.assign(EXA_C_RTAS_CORR_CN = lambda x: ((base_mod['EXA_N_RTAS_CORR_CN'] // 7)))\n",
        "base_mod_cat = base_mod_cat.assign(EXA_C_RTAS_CORR_CC = lambda x: ((base_mod['EXA_N_RTAS_CORR_CC'] // 7)))\n",
        "base_mod_cat = base_mod_cat.assign(EXA_C_RTAS_CORR_LC = lambda x: ((base_mod['EXA_N_RTAS_CORR_LC'] // 7)))\n",
        "base_mod_cat = base_mod_cat.assign(EXA_C_RTAS_CORR_MT = lambda x: ((base_mod['EXA_N_RTAS_CORR_MT'] // 7)))"
      ]
    },
    {
      "cell_type": "code",
      "execution_count": null,
      "metadata": {
        "colab": {
          "base_uri": "https://localhost:8080/"
        },
        "id": "-4GPwW1-YyI6",
        "outputId": "8798bfad-0cbc-4ac5-8526-a4812ccd685e"
      },
      "outputs": [
        {
          "output_type": "execute_result",
          "data": {
            "text/plain": [
              "Index(['Unnamed: 0', 'ESTU_CONSECUTIVO', 'ESTU_GRADO', 'ESTU_GENERO',\n",
              "       'COLE_NOM_ESTABLECIMIENTO', 'COLE_COD_ICFES', 'COLE_NATURALEZA',\n",
              "       'COLE_CALENDARIO', 'COLE_JORNADA', 'COLE_COD_MCPIO', 'COLE_NOM_MCPIO',\n",
              "       'COLE_COD_DPTO', 'COLE_NOM_DPTO', 'EXA_MODALIDAD', 'EXA_N_RTAS_CORR_CN',\n",
              "       'EXA_N_RTAS_CORR_CC', 'EXA_N_RTAS_CORR_LC', 'EXA_N_RTAS_CORR_MT',\n",
              "       'EXA_C_RTAS_CORR_CN', 'EXA_C_RTAS_CORR_CC', 'EXA_C_RTAS_CORR_LC',\n",
              "       'EXA_C_RTAS_CORR_MT'],\n",
              "      dtype='object')"
            ]
          },
          "metadata": {},
          "execution_count": 5
        }
      ],
      "source": [
        "base_mod_cat.columns"
      ]
    },
    {
      "cell_type": "code",
      "execution_count": null,
      "metadata": {
        "id": "GtpI0hHoYzzz"
      },
      "outputs": [],
      "source": [
        "# Crea una lista de las variables categóricas\n",
        "categoricas_var = [\"ESTU_GENERO\", \"COLE_NATURALEZA\", \"COLE_JORNADA\", \"EXA_MODALIDAD\"]\n",
        "\n",
        "# Realiza la codificación one hot\n",
        "for var in categoricas_var:\n",
        "    base_mod_cat = pd.get_dummies(base_mod_cat, columns=[var])"
      ]
    },
    {
      "cell_type": "code",
      "execution_count": null,
      "metadata": {
        "id": "WxNAyuoSY5Jr"
      },
      "outputs": [],
      "source": [
        "X = base_mod_cat[['ESTU_GRADO',  'COLE_COD_ICFES', 'COLE_COD_MCPIO', 'COLE_COD_DPTO',\n",
        "                    'EXA_C_RTAS_CORR_MT', 'EXA_C_RTAS_CORR_CC', 'EXA_C_RTAS_CORR_LC',\n",
        "               'ESTU_GENERO_F', 'COLE_NATURALEZA_O',\n",
        "               'COLE_JORNADA_COMPLETA', 'COLE_JORNADA_MAÑANA', 'COLE_JORNADA_TARDE',\n",
        "                  'EXA_MODALIDAD_OFF', 'EXA_MODALIDAD_ON', 'EXA_MODALIDAD_PA']]\n",
        "\n",
        "# Selecciona la variable dependiente\n",
        "y = base_mod_cat['EXA_C_RTAS_CORR_CN']"
      ]
    },
    {
      "cell_type": "code",
      "execution_count": null,
      "metadata": {
        "id": "EZkoEoiuZBrr"
      },
      "outputs": [],
      "source": [
        "# Divide los datos en conjuntos de entrenamiento y prueba\n",
        "X_train, X_test, y_train, y_test = model_selection.train_test_split(X, y, test_size=0.2, random_state=42)"
      ]
    },
    {
      "cell_type": "code",
      "execution_count": null,
      "metadata": {
        "colab": {
          "base_uri": "https://localhost:8080/"
        },
        "id": "VwCLeu_UZEMy",
        "outputId": "3f08f2cb-8a51-42a2-9b66-f3c053c8a58e"
      },
      "outputs": [
        {
          "output_type": "stream",
          "name": "stdout",
          "text": [
            "0.7200684150513113\n",
            "El MSE del modelo en la muestra de evaluación es igual a:\n",
            "0.31157354618015964\n"
          ]
        }
      ],
      "source": [
        "# Entrena el modelo de bosque aleatorio\n",
        "model_RF= RandomForestClassifier()\n",
        "model_RF.fit(X_train, y_train)\n",
        "\n",
        "# Evalúa el modelo\n",
        "score_RF = model_RF.score(X_test, y_test)\n",
        "print(score_RF)\n",
        "\n",
        "prediccion_RF = model_RF.predict(X_test)\n",
        "MSE_RF = np.average(np.square(prediccion_RF - y_test))\n",
        "print(\"El MSE del modelo en la muestra de evaluación es igual a:\")\n",
        "print(MSE_RF)"
      ]
    },
    {
      "cell_type": "code",
      "execution_count": null,
      "metadata": {
        "colab": {
          "base_uri": "https://localhost:8080/"
        },
        "id": "O80MTkMJZL1k",
        "outputId": "932dce3e-ddc0-4a04-8153-7246d4bc70bf"
      },
      "outputs": [
        {
          "output_type": "stream",
          "name": "stdout",
          "text": [
            "{'max_depth': 80, 'n_estimators': 200}\n",
            "0.7098360655737705\n"
          ]
        }
      ],
      "source": [
        "# Definir el modelo a optimizar\n",
        "model = RandomForestClassifier()\n",
        "\n",
        "# Definir el espacio de parámetros a explorar\n",
        "param_grid = {\n",
        "    \"n_estimators\": [100, 200, 300],\n",
        "    \"max_depth\": [40, 60, 80],\n",
        "}\n",
        "\n",
        "# Instanciar el GridSearchCV\n",
        "gscv = GridSearchCV(model, param_grid, scoring=\"accuracy\", n_jobs=-1)\n",
        "\n",
        "# Entrenar el modelo\n",
        "gscv.fit(X_train, y_train)\n",
        "\n",
        "# Imprimir los resultados\n",
        "print(gscv.best_params_)\n",
        "print(gscv.best_score_)"
      ]
    },
    {
      "cell_type": "code",
      "execution_count": null,
      "metadata": {
        "id": "sS8xDkq5ZVfb"
      },
      "outputs": [],
      "source": []
    }
  ],
  "metadata": {
    "colab": {
      "provenance": []
    },
    "kernelspec": {
      "display_name": "Python 3",
      "name": "python3"
    },
    "language_info": {
      "name": "python"
    }
  },
  "nbformat": 4,
  "nbformat_minor": 0
}