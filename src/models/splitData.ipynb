{
 "cells": [
  {
   "cell_type": "code",
   "execution_count": 1,
   "metadata": {},
   "outputs": [],
   "source": [
    "import pandas as pd"
   ]
  },
  {
   "cell_type": "code",
   "execution_count": 3,
   "metadata": {},
   "outputs": [],
   "source": [
    "df = pd.read_csv('package/model/datasets/EXA_2022_1_Todos_Limp.csv')\n",
    "\n",
    "df_train = df.sample(frac=0.7, random_state=42)\n",
    "df_test = df.drop(df_train.index)\n",
    "\n",
    "df_train.to_csv('package/model/datasets/EPA-ModeloLectura-train.csv', index=False)\n",
    "df_test.to_csv('package/model/datasets/EPA-ModeloLectura-test.csv', index=False)"
   ]
  }
 ],
 "metadata": {
  "kernelspec": {
   "display_name": "miad_dsa_project",
   "language": "python",
   "name": "python3"
  },
  "language_info": {
   "codemirror_mode": {
    "name": "ipython",
    "version": 3
   },
   "file_extension": ".py",
   "mimetype": "text/x-python",
   "name": "python",
   "nbconvert_exporter": "python",
   "pygments_lexer": "ipython3",
   "version": "3.11.5"
  }
 },
 "nbformat": 4,
 "nbformat_minor": 2
}
